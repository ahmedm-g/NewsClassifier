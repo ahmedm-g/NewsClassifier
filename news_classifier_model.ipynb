{
  "nbformat": 4,
  "nbformat_minor": 0,
  "metadata": {
    "colab": {
      "provenance": [],
      "authorship_tag": "ABX9TyMyZSYXdUqei589QcJsBgCt",
      "include_colab_link": true
    },
    "kernelspec": {
      "name": "python3",
      "display_name": "Python 3"
    },
    "language_info": {
      "name": "python"
    }
  },
  "cells": [
    {
      "cell_type": "markdown",
      "metadata": {
        "id": "view-in-github",
        "colab_type": "text"
      },
      "source": [
        "<a href=\"https://colab.research.google.com/github/ahmedm-g/NewsClassifier/blob/main/news_classifier_model.ipynb\" target=\"_parent\"><img src=\"https://colab.research.google.com/assets/colab-badge.svg\" alt=\"Open In Colab\"/></a>"
      ]
    },
    {
      "cell_type": "code",
      "execution_count": 118,
      "metadata": {
        "id": "WHzwY1I26daq",
        "colab": {
          "base_uri": "https://localhost:8080/"
        },
        "outputId": "6f7327b2-890c-412f-e573-ecfa775fe836"
      },
      "outputs": [
        {
          "output_type": "stream",
          "name": "stderr",
          "text": [
            "[nltk_data] Downloading package stopwords to /root/nltk_data...\n",
            "[nltk_data]   Package stopwords is already up-to-date!\n",
            "[nltk_data] Downloading package punkt to /root/nltk_data...\n",
            "[nltk_data]   Package punkt is already up-to-date!\n",
            "[nltk_data] Downloading package wordnet to /root/nltk_data...\n",
            "[nltk_data]   Package wordnet is already up-to-date!\n"
          ]
        },
        {
          "output_type": "execute_result",
          "data": {
            "text/plain": [
              "True"
            ]
          },
          "metadata": {},
          "execution_count": 118
        }
      ],
      "source": [
        "import numpy as np\n",
        "import pandas as pd\n",
        "import matplotlib.pyplot as plt\n",
        "\n",
        "import nltk\n",
        "nltk.download('stopwords')\n",
        "nltk.download('punkt')\n",
        "nltk.download('wordnet')"
      ]
    },
    {
      "cell_type": "code",
      "source": [
        "import en_core_web_sm\n",
        "nlp = en_core_web_sm.load()"
      ],
      "metadata": {
        "id": "Xo7mY8Qx7lgy"
      },
      "execution_count": 119,
      "outputs": []
    },
    {
      "cell_type": "code",
      "source": [
        "def get_data():\n",
        "  url = 'https://raw.githubusercontent.com/ahmedm-g/NewsClassifier/main/data_train_news_bbc.csv'\n",
        "  return pd.read_csv(url)\n",
        "data = get_data()"
      ],
      "metadata": {
        "id": "MqyoC2iX7p_t"
      },
      "execution_count": 120,
      "outputs": []
    },
    {
      "cell_type": "code",
      "source": [
        "print(data.head())"
      ],
      "metadata": {
        "id": "XoIR_LFd9VDG",
        "colab": {
          "base_uri": "https://localhost:8080/"
        },
        "outputId": "3222844c-f1ad-4d47-cda9-1a2e2bd7c752"
      },
      "execution_count": 121,
      "outputs": [
        {
          "output_type": "stream",
          "name": "stdout",
          "text": [
            "   ArticleId                                               Text  Category\n",
            "0       1833  worldcom ex-boss launches defence lawyers defe...  business\n",
            "1        154  german business confidence slides german busin...  business\n",
            "2       1101  bbc poll indicates economic gloom citizens in ...  business\n",
            "3       1976  lifestyle  governs mobile choice  faster  bett...      tech\n",
            "4        917  enron bosses in $168m payout eighteen former e...  business\n"
          ]
        }
      ]
    },
    {
      "cell_type": "code",
      "source": [
        "data.shape"
      ],
      "metadata": {
        "colab": {
          "base_uri": "https://localhost:8080/"
        },
        "id": "MMmldabl99zG",
        "outputId": "5c63e31c-6dd5-4399-c5b1-afc907d20cf1"
      },
      "execution_count": 122,
      "outputs": [
        {
          "output_type": "execute_result",
          "data": {
            "text/plain": [
              "(1490, 3)"
            ]
          },
          "metadata": {},
          "execution_count": 122
        }
      ]
    },
    {
      "cell_type": "code",
      "source": [
        "import re\n",
        "import string\n",
        "import sys\n",
        "import argparse\n",
        "from nltk.corpus import stopwords\n",
        "\n",
        "english_stops = stopwords.words('english')\n",
        "english_stops += list(string.punctuation)"
      ],
      "metadata": {
        "id": "6oc_aZJW-GsI"
      },
      "execution_count": 123,
      "outputs": []
    },
    {
      "cell_type": "code",
      "source": [
        "def lower(text):\n",
        "  return text.lower()\n",
        "data['Text'] = data['Text'].apply(lower)\n",
        "data['Text'].head()"
      ],
      "metadata": {
        "colab": {
          "base_uri": "https://localhost:8080/"
        },
        "id": "4kZCKfTw-Wyi",
        "outputId": "e9e8246c-c46a-4e31-c462-5ded76e97599"
      },
      "execution_count": 124,
      "outputs": [
        {
          "output_type": "execute_result",
          "data": {
            "text/plain": [
              "0    worldcom ex-boss launches defence lawyers defe...\n",
              "1    german business confidence slides german busin...\n",
              "2    bbc poll indicates economic gloom citizens in ...\n",
              "3    lifestyle  governs mobile choice  faster  bett...\n",
              "4    enron bosses in $168m payout eighteen former e...\n",
              "Name: Text, dtype: object"
            ]
          },
          "metadata": {},
          "execution_count": 124
        }
      ]
    },
    {
      "cell_type": "code",
      "source": [
        "from nltk.tokenize import word_tokenize\n",
        "\n",
        "def remove_stopwords(text):\n",
        "  tokens = word_tokenize(text)\n",
        "  return ' '.join([token for token in tokens if token not in english_stops])\n",
        "\n",
        "data['Text'] = data['Text'].apply(remove_stopwords)\n",
        "data['Text'].head()"
      ],
      "metadata": {
        "colab": {
          "base_uri": "https://localhost:8080/"
        },
        "id": "P6X8exHXKwcF",
        "outputId": "b3f892e8-8aea-42a6-e40b-77a879e5a3d9"
      },
      "execution_count": 125,
      "outputs": [
        {
          "output_type": "execute_result",
          "data": {
            "text/plain": [
              "0    worldcom ex-boss launches defence lawyers defe...\n",
              "1    german business confidence slides german busin...\n",
              "2    bbc poll indicates economic gloom citizens maj...\n",
              "3    lifestyle governs mobile choice faster better ...\n",
              "4    enron bosses 168m payout eighteen former enron...\n",
              "Name: Text, dtype: object"
            ]
          },
          "metadata": {},
          "execution_count": 125
        }
      ]
    },
    {
      "cell_type": "code",
      "source": [
        "from nltk.stem import WordNetLemmatizer\n",
        "\n",
        "def lemmatize_text(text):\n",
        "  lemmatizer = WordNetLemmatizer()\n",
        "  lemmatized_words = [lemmatizer.lemmatize(word) for word in text]\n",
        "  return ' '.join(lemmatized_words)\n",
        "\n",
        "# data['Text'] = data['Text'].apply(lemmatize_text)\n",
        "data['Text'].head()"
      ],
      "metadata": {
        "colab": {
          "base_uri": "https://localhost:8080/"
        },
        "id": "aJbzCNVz_2Is",
        "outputId": "bfb2b459-068a-47e8-dfc4-f09eaf06fa57"
      },
      "execution_count": 126,
      "outputs": [
        {
          "output_type": "execute_result",
          "data": {
            "text/plain": [
              "0    worldcom ex-boss launches defence lawyers defe...\n",
              "1    german business confidence slides german busin...\n",
              "2    bbc poll indicates economic gloom citizens maj...\n",
              "3    lifestyle governs mobile choice faster better ...\n",
              "4    enron bosses 168m payout eighteen former enron...\n",
              "Name: Text, dtype: object"
            ]
          },
          "metadata": {},
          "execution_count": 126
        }
      ]
    },
    {
      "cell_type": "code",
      "source": [],
      "metadata": {
        "id": "AChpyV-2AbhK"
      },
      "execution_count": 126,
      "outputs": []
    }
  ]
}