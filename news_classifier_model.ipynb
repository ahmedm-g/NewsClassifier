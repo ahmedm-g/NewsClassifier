{
  "cells": [
    {
      "cell_type": "markdown",
      "metadata": {
        "id": "view-in-github",
        "colab_type": "text"
      },
      "source": [
        "<a href=\"https://colab.research.google.com/github/ahmedm-g/NewsClassifier/blob/main/news_classifier_model.ipynb\" target=\"_parent\"><img src=\"https://colab.research.google.com/assets/colab-badge.svg\" alt=\"Open In Colab\"/></a>"
      ]
    },
    {
      "cell_type": "code",
      "execution_count": null,
      "metadata": {
        "colab": {
          "base_uri": "https://localhost:8080/"
        },
        "id": "WHzwY1I26daq",
        "outputId": "8bcfb9a9-867e-4743-be8d-a6324d4a2707"
      },
      "outputs": [
        {
          "name": "stderr",
          "output_type": "stream",
          "text": [
            "[nltk_data] Downloading package stopwords to /root/nltk_data...\n",
            "[nltk_data]   Package stopwords is already up-to-date!\n",
            "[nltk_data] Downloading package punkt to /root/nltk_data...\n",
            "[nltk_data]   Package punkt is already up-to-date!\n",
            "[nltk_data] Downloading package wordnet to /root/nltk_data...\n",
            "[nltk_data]   Package wordnet is already up-to-date!\n"
          ]
        },
        {
          "data": {
            "text/plain": [
              "True"
            ]
          },
          "execution_count": 182,
          "metadata": {},
          "output_type": "execute_result"
        }
      ],
      "source": [
        "import numpy as np\n",
        "import pandas as pd\n",
        "import nltk\n",
        "\n",
        "from sklearn.linear_model import LogisticRegression\n",
        "from sklearn.ensemble import RandomForestClassifier\n",
        "from sklearn.naive_bayes import MultinomialNB, GaussianNB\n",
        "from sklearn.svm import SVC\n",
        "from sklearn.tree import DecisionTreeClassifier\n",
        "from sklearn.neighbors import KNeighborsClassifier\n",
        "from sklearn.multiclass import OneVsRestClassifier\n",
        "from sklearn.metrics import accuracy_score, precision_score, recall_score, f1_score\n",
        "from sklearn.metrics import precision_recall_fscore_support as score\n",
        "nltk.download('stopwords')\n",
        "nltk.download('punkt')\n",
        "nltk.download('wordnet')"
      ]
    },
    {
      "cell_type": "code",
      "execution_count": null,
      "metadata": {
        "id": "MqyoC2iX7p_t"
      },
      "outputs": [],
      "source": [
        "# load bbc news data\n",
        "def get_data():\n",
        "  url = 'https://raw.githubusercontent.com/ahmedm-g/NewsClassifier/main/data_train_news_bbc.csv'\n",
        "  return pd.read_csv(url)\n",
        "data = get_data()"
      ]
    },
    {
      "cell_type": "code",
      "execution_count": null,
      "metadata": {
        "colab": {
          "base_uri": "https://localhost:8080/"
        },
        "id": "XoIR_LFd9VDG",
        "outputId": "0a868d65-6894-4cda-a3d1-609490602a5b"
      },
      "outputs": [
        {
          "name": "stdout",
          "output_type": "stream",
          "text": [
            "   ArticleId                                               Text  Category\n",
            "0       1833  worldcom ex-boss launches defence lawyers defe...  business\n",
            "1        154  german business confidence slides german busin...  business\n",
            "2       1101  bbc poll indicates economic gloom citizens in ...  business\n",
            "3       1976  lifestyle  governs mobile choice  faster  bett...      tech\n",
            "4        917  enron bosses in $168m payout eighteen former e...  business\n"
          ]
        }
      ],
      "source": [
        "print(data.head())"
      ]
    },
    {
      "cell_type": "code",
      "execution_count": null,
      "metadata": {
        "colab": {
          "base_uri": "https://localhost:8080/"
        },
        "id": "MMmldabl99zG",
        "outputId": "4560d3cb-2c9b-43ab-9d26-1a27b6495866"
      },
      "outputs": [
        {
          "data": {
            "text/plain": [
              "(1490, 3)"
            ]
          },
          "execution_count": 138,
          "metadata": {},
          "output_type": "execute_result"
        }
      ],
      "source": [
        "data.shape"
      ]
    },
    {
      "cell_type": "code",
      "execution_count": null,
      "metadata": {
        "id": "4kZCKfTw-Wyi"
      },
      "outputs": [],
      "source": [
        "def lower(text):\n",
        "  return text.lower()\n",
        "data['Text'] = data['Text'].apply(lower)\n",
        "# data['Text'].head()"
      ]
    },
    {
      "cell_type": "code",
      "execution_count": null,
      "metadata": {
        "id": "6oc_aZJW-GsI"
      },
      "outputs": [],
      "source": [
        "import string\n",
        "from nltk.corpus import stopwords\n",
        "\n",
        "english_stops = stopwords.words('english')\n",
        "english_stops += list(string.punctuation)"
      ]
    },
    {
      "cell_type": "code",
      "execution_count": null,
      "metadata": {
        "colab": {
          "base_uri": "https://localhost:8080/"
        },
        "id": "P6X8exHXKwcF",
        "outputId": "3c553eec-a0e6-4aa1-aea8-e96a7a216319"
      },
      "outputs": [
        {
          "data": {
            "text/plain": [
              "0    worldcom ex-boss launches defence lawyers defe...\n",
              "1    german business confidence slides german busin...\n",
              "2    bbc poll indicates economic gloom citizens maj...\n",
              "3    lifestyle governs mobile choice faster better ...\n",
              "4    enron bosses 168m payout eighteen former enron...\n",
              "Name: Text, dtype: object"
            ]
          },
          "execution_count": 141,
          "metadata": {},
          "output_type": "execute_result"
        }
      ],
      "source": [
        "from nltk.tokenize import word_tokenize\n",
        "\n",
        "def remove_stopwords(text):\n",
        "  tokens = word_tokenize(text)\n",
        "  return ' '.join([token for token in tokens if token not in english_stops])\n",
        "\n",
        "data['Text'] = data['Text'].apply(remove_stopwords)\n",
        "data['Text'].head()"
      ]
    },
    {
      "cell_type": "code",
      "execution_count": null,
      "metadata": {
        "colab": {
          "base_uri": "https://localhost:8080/"
        },
        "id": "aJbzCNVz_2Is",
        "outputId": "53fd426f-d783-4c8c-a8f3-cf2c4b050465"
      },
      "outputs": [
        {
          "data": {
            "text/plain": [
              "0    worldcom ex-boss launch defence lawyer defendi...\n",
              "1    german business confidence slide german busine...\n",
              "2    bbc poll indicates economic gloom citizen majo...\n",
              "3    lifestyle governs mobile choice faster better ...\n",
              "4    enron boss 168m payout eighteen former enron d...\n",
              "Name: Text, dtype: object"
            ]
          },
          "execution_count": 142,
          "metadata": {},
          "output_type": "execute_result"
        }
      ],
      "source": [
        "from nltk.stem import WordNetLemmatizer\n",
        "\n",
        "def lemmatize_text(text):\n",
        "  lemmatizer = WordNetLemmatizer()\n",
        "  tokens = word_tokenize(text)\n",
        "  lemmatized_words = [lemmatizer.lemmatize(token) for token in tokens]\n",
        "  return ' '.join(lemmatized_words)\n",
        "\n",
        "data['Text'] = data['Text'].apply(lemmatize_text)\n",
        "data['Text'].head()"
      ]
    },
    {
      "cell_type": "code",
      "execution_count": null,
      "metadata": {
        "colab": {
          "background_save": true,
          "base_uri": "https://localhost:8080/"
        },
        "id": "AChpyV-2AbhK",
        "outputId": "e73d5ef8-c40f-465c-d6b7-0318964aa023"
      },
      "outputs": [
        {
          "ename": "NameError",
          "evalue": "ignored",
          "output_type": "error",
          "traceback": [
            "\u001b[0;31m---------------------------------------------------------------------------\u001b[0m",
            "\u001b[0;31mNameError\u001b[0m                                 Traceback (most recent call last)",
            "\u001b[0;32m<ipython-input-230-05db9a53e01a>\u001b[0m in \u001b[0;36m<cell line: 5>\u001b[0;34m()\u001b[0m\n\u001b[1;32m      3\u001b[0m \u001b[0mcount_vectroizer\u001b[0m \u001b[0;34m=\u001b[0m \u001b[0mCountVectorizer\u001b[0m\u001b[0;34m(\u001b[0m\u001b[0mmax_features\u001b[0m \u001b[0;34m=\u001b[0m \u001b[0;36m5000\u001b[0m\u001b[0;34m)\u001b[0m\u001b[0;34m\u001b[0m\u001b[0;34m\u001b[0m\u001b[0m\n\u001b[1;32m      4\u001b[0m \u001b[0mtfidf_vectorizer\u001b[0m \u001b[0;34m=\u001b[0m \u001b[0mTfidfVectorizer\u001b[0m\u001b[0;34m(\u001b[0m\u001b[0;34m)\u001b[0m\u001b[0;34m\u001b[0m\u001b[0;34m\u001b[0m\u001b[0m\n\u001b[0;32m----> 5\u001b[0;31m \u001b[0mx\u001b[0m \u001b[0;34m=\u001b[0m \u001b[0mtfidf_vectorizer\u001b[0m\u001b[0;34m.\u001b[0m\u001b[0mfit_transform\u001b[0m\u001b[0;34m(\u001b[0m\u001b[0mdocuments\u001b[0m\u001b[0;34m)\u001b[0m\u001b[0;34m\u001b[0m\u001b[0;34m\u001b[0m\u001b[0m\n\u001b[0m\u001b[1;32m      6\u001b[0m \u001b[0;31m# x = count_vectroizer.fit_transform(data.Text).toarray()\u001b[0m\u001b[0;34m\u001b[0m\u001b[0;34m\u001b[0m\u001b[0m\n\u001b[1;32m      7\u001b[0m \u001b[0;34m\u001b[0m\u001b[0m\n",
            "\u001b[0;31mNameError\u001b[0m: name 'documents' is not defined"
          ]
        }
      ],
      "source": [
        "from sklearn.feature_extraction.text import CountVectorizer\n",
        "y = np.array(data.Category.values)\n",
        "count_vectroizer = CountVectorizer(max_features = 5000)\n",
        "x = count_vectroizer.fit_transform(data.Text).toarray()\n",
        "print(\"X.shape = \",x.shape)\n",
        "print(\"y.shape = \",y.shape)"
      ]
    },
    {
      "cell_type": "code",
      "execution_count": null,
      "metadata": {
        "colab": {
          "base_uri": "https://localhost:8080/"
        },
        "id": "svSgxTAoqvxJ",
        "outputId": "a29e761f-2185-46d2-980f-38f1a0ab4a4b"
      },
      "outputs": [
        {
          "name": "stdout",
          "output_type": "stream",
          "text": [
            "1043\n",
            "447\n"
          ]
        }
      ],
      "source": [
        "from sklearn.model_selection import train_test_split\n",
        "x_train, x_test, y_train, y_test = train_test_split(x, y, test_size = 0.3, random_state = 42, shuffle = True)\n",
        "print(len(x_train))\n",
        "print(len(x_test))"
      ]
    },
    {
      "cell_type": "code",
      "execution_count": null,
      "metadata": {
        "id": "iSMm3JWb9eKz"
      },
      "outputs": [],
      "source": [
        "# Create list of model and accuracy dicts\n",
        "perform_list = [ ]\n",
        "\n",
        "def run_model(model_name, est_c, est_pnlty):\n",
        "    mdl = \"\"\n",
        "    if model_name == 'Logistic Regression':\n",
        "        mdl = LogisticRegression()\n",
        "    elif model_name == 'Random Forest':\n",
        "        mdl = RandomForestClassifier(n_estimators=100 ,criterion='entropy' , random_state=0)\n",
        "    elif model_name == 'Multinomial Naive Bayes':\n",
        "        mdl = MultinomialNB(alpha=1.0,fit_prior=True)\n",
        "    elif model_name == 'Support Vector Classifer':\n",
        "        mdl = SVC()\n",
        "    elif model_name == 'Decision Tree Classifier':\n",
        "        mdl = DecisionTreeClassifier()\n",
        "    elif model_name == 'K Nearest Neighbour':\n",
        "        mdl = KNeighborsClassifier(n_neighbors=10 , metric= 'minkowski' , p = 4)\n",
        "    elif model_name == 'Gaussian Naive Bayes':\n",
        "        mdl = GaussianNB()\n",
        "\n",
        "    oneVsRest = OneVsRestClassifier(mdl)\n",
        "    oneVsRest.fit(x_train, y_train)\n",
        "    y_pred = oneVsRest.predict(x_test)\n",
        "\n",
        "    # Performance metrics\n",
        "    accuracy = round(accuracy_score(y_test, y_pred) * 100, 2)\n",
        "\n",
        "    # Get precision, recall, f1 scores\n",
        "    precision, recall, f1score, support = score(y_test, y_pred, average='micro')\n",
        "    print(f'Test Accuracy Score of Basic {model_name}: % {accuracy}')\n",
        "    print(f'Precision : {precision}')\n",
        "    print(f'Recall : {recall}')\n",
        "    print(f'F1-score : {f1score}')\n",
        "\n",
        "    # Round the precision, recall, and f1score values\n",
        "    precision_rounded = round(precision, 2)\n",
        "    recall_rounded = (recall, 2)\n",
        "    f1score_rounded = round(f, 2) for f in f1score]\n",
        "\n",
        "    # Add performance parameters to list\n",
        "    perform_list.append(dict([\n",
        "        ('Model', model_name),\n",
        "        ('Test Accuracy', accuracy),\n",
        "        ('Precision', precision_rounded),\n",
        "        ('Recall', recall_rounded),\n",
        "        ('F1', f1score_rounded)\n",
        "    ]))"
      ]
    },
    {
      "cell_type": "code",
      "execution_count": null,
      "metadata": {
        "colab": {
          "base_uri": "https://localhost:8080/"
        },
        "id": "1i8MleO0EQDR",
        "outputId": "1d9fdf41-fe1b-488f-adfe-deb7fa082e91"
      },
      "outputs": [
        {
          "name": "stdout",
          "output_type": "stream",
          "text": [
            "Test Accuracy Score of Basic Logistic Regression: % 96.64\n",
            "Precision : [0.97222222 0.96296296 0.96385542 0.95283019 0.98550725]\n",
            "Recall : [0.97222222 0.98734177 0.93023256 1.         0.93150685]\n",
            "F1-score : [0.97222222 0.975      0.94674556 0.97584541 0.95774648]\n"
          ]
        }
      ],
      "source": [
        "run_model('Logistic Regression', est_c=None, est_pnlty=None)"
      ]
    },
    {
      "cell_type": "code",
      "execution_count": null,
      "metadata": {
        "colab": {
          "background_save": true,
          "base_uri": "https://localhost:8080/"
        },
        "id": "oOAGcEAe9nIP",
        "outputId": "8d1f59ee-f3c6-4deb-e89c-fd69c4741a5f"
      },
      "outputs": [
        {
          "name": "stdout",
          "output_type": "stream",
          "text": [
            "Test Accuracy Score of Basic Multinomial Naive Bayes: % 97.99\n",
            "Precision : 0.9798657718120806\n",
            "Recall : 0.9798657718120806\n",
            "F1-score : 0.9798657718120806\n"
          ]
        }
      ],
      "source": [
        "run_model('Multinomial Naive Bayes', est_c=None, est_pnlty=None)"
      ]
    },
    {
      "cell_type": "code",
      "execution_count": null,
      "metadata": {
        "colab": {
          "background_save": true,
          "base_uri": "https://localhost:8080/"
        },
        "id": "Q1BzXxK240_F",
        "outputId": "601ea8a3-ed5a-49f9-bc0b-927a6ab7eca8"
      },
      "outputs": [
        {
          "name": "stdout",
          "output_type": "stream",
          "text": [
            "Test Accuracy Score of Basic Random Forest: % 97.99\n",
            "Precision : 0.9798657718120806\n",
            "Recall : 0.9798657718120806\n",
            "F1-score : 0.9798657718120806\n"
          ]
        }
      ],
      "source": [
        "run_model('Random Forest', est_c=None, est_pnlty=None)"
      ]
    },
    {
      "cell_type": "code",
      "execution_count": null,
      "metadata": {
        "colab": {
          "base_uri": "https://localhost:8080/"
        },
        "id": "E1cz92MqEZW4",
        "outputId": "c379de98-6340-4a52-d6fa-116e4b766e5e"
      },
      "outputs": [
        {
          "name": "stdout",
          "output_type": "stream",
          "text": [
            "Test Accuracy Score of Basic Support Vector Classifer: % 95.97\n",
            "Precision : [0.99047619 0.97435897 0.96296296 0.97087379 0.8875    ]\n",
            "Recall : [0.96296296 0.96202532 0.90697674 0.99009901 0.97260274]\n",
            "F1-score : [0.97652582 0.96815287 0.93413174 0.98039216 0.92810458]\n"
          ]
        }
      ],
      "source": [
        "run_model('Support Vector Classifer', est_c=None, est_pnlty=None)"
      ]
    },
    {
      "cell_type": "code",
      "execution_count": null,
      "metadata": {
        "colab": {
          "base_uri": "https://localhost:8080/"
        },
        "id": "gabgCuthEbgU",
        "outputId": "bc00c59c-fc7d-4246-eba4-ec632bba1ac3"
      },
      "outputs": [
        {
          "name": "stdout",
          "output_type": "stream",
          "text": [
            "Test Accuracy Score of Basic Decision Tree Classifier: % 80.09\n",
            "Precision : [0.94444444 0.94915254 0.8255814  0.93137255 0.53125   ]\n",
            "Recall : [0.62962963 0.70886076 0.8255814  0.94059406 0.93150685]\n",
            "F1-score : [0.75555556 0.8115942  0.8255814  0.93596059 0.67661692]\n"
          ]
        }
      ],
      "source": [
        "run_model('Decision Tree Classifier', est_c=None, est_pnlty=None)"
      ]
    },
    {
      "cell_type": "code",
      "execution_count": null,
      "metadata": {
        "colab": {
          "base_uri": "https://localhost:8080/"
        },
        "id": "KleRZmEWEdJn",
        "outputId": "5d231376-39db-4af2-bc64-33596785fa49"
      },
      "outputs": [
        {
          "name": "stdout",
          "output_type": "stream",
          "text": [
            "Test Accuracy Score of Basic K Nearest Neighbour: % 70.02\n",
            "Precision : [0.77777778 0.83870968 0.81818182 0.52879581 0.94736842]\n",
            "Recall : [0.64814815 0.65822785 0.62790698 1.         0.49315068]\n",
            "F1-score : [0.70707071 0.73758865 0.71052632 0.69178082 0.64864865]\n"
          ]
        }
      ],
      "source": [
        "run_model('K Nearest Neighbour', est_c=None, est_pnlty=None)"
      ]
    },
    {
      "cell_type": "code",
      "execution_count": null,
      "metadata": {
        "colab": {
          "base_uri": "https://localhost:8080/"
        },
        "id": "ca_r0CoaEe9Z",
        "outputId": "d52299a0-7a5d-4c4a-d3ef-a56a13f6cb5b"
      },
      "outputs": [
        {
          "name": "stdout",
          "output_type": "stream",
          "text": [
            "Test Accuracy Score of Basic Gaussian Naive Bayes: % 77.18\n",
            "Precision : [0.94666667 0.95833333 1.         1.         0.4251497 ]\n",
            "Recall : [0.65740741 0.58227848 0.69767442 0.96039604 0.97260274]\n",
            "F1-score : [0.77595628 0.72440945 0.82191781 0.97979798 0.59166667]\n"
          ]
        }
      ],
      "source": [
        "run_model('Gaussian Naive Bayes', est_c=None, est_pnlty=None)"
      ]
    },
    {
      "cell_type": "code",
      "execution_count": null,
      "metadata": {
        "colab": {
          "base_uri": "https://localhost:8080/",
          "height": 300
        },
        "id": "UmiCcu0jEgh-",
        "outputId": "e5438258-5d33-42e7-ae15-16ba393f9b7f"
      },
      "outputs": [
        {
          "data": {
            "text/html": [
              "\n",
              "  <div id=\"df-7dfd8281-e758-4d91-8273-4c2dc8a77b3c\">\n",
              "    <div class=\"colab-df-container\">\n",
              "      <div>\n",
              "<style scoped>\n",
              "    .dataframe tbody tr th:only-of-type {\n",
              "        vertical-align: middle;\n",
              "    }\n",
              "\n",
              "    .dataframe tbody tr th {\n",
              "        vertical-align: top;\n",
              "    }\n",
              "\n",
              "    .dataframe thead th {\n",
              "        text-align: right;\n",
              "    }\n",
              "</style>\n",
              "<table border=\"1\" class=\"dataframe\">\n",
              "  <thead>\n",
              "    <tr style=\"text-align: right;\">\n",
              "      <th></th>\n",
              "      <th>Model</th>\n",
              "      <th>Test Accuracy</th>\n",
              "      <th>Precision</th>\n",
              "      <th>Recall</th>\n",
              "      <th>F1</th>\n",
              "    </tr>\n",
              "  </thead>\n",
              "  <tbody>\n",
              "    <tr>\n",
              "      <th>0</th>\n",
              "      <td>Logistic Regression</td>\n",
              "      <td>96.64</td>\n",
              "      <td>[0.97, 0.96, 0.96, 0.95, 0.99]</td>\n",
              "      <td>[0.97, 0.99, 0.93, 1.0, 0.93]</td>\n",
              "      <td>[0.97, 0.98, 0.95, 0.98, 0.96]</td>\n",
              "    </tr>\n",
              "    <tr>\n",
              "      <th>1</th>\n",
              "      <td>Logistic Regression</td>\n",
              "      <td>96.64</td>\n",
              "      <td>[0.97, 0.96, 0.96, 0.95, 0.99]</td>\n",
              "      <td>[0.97, 0.99, 0.93, 1.0, 0.93]</td>\n",
              "      <td>[0.97, 0.98, 0.95, 0.98, 0.96]</td>\n",
              "    </tr>\n",
              "    <tr>\n",
              "      <th>2</th>\n",
              "      <td>Multinomial Naive Bayes</td>\n",
              "      <td>97.99</td>\n",
              "      <td>[0.99, 1.0, 0.95, 0.99, 0.96]</td>\n",
              "      <td>[0.95, 0.99, 0.98, 1.0, 0.99]</td>\n",
              "      <td>[0.97, 0.99, 0.97, 1.0, 0.97]</td>\n",
              "    </tr>\n",
              "    <tr>\n",
              "      <th>3</th>\n",
              "      <td>Random Forest</td>\n",
              "      <td>97.99</td>\n",
              "      <td>[0.98, 0.99, 0.98, 1.0, 0.95]</td>\n",
              "      <td>[0.97, 1.0, 0.97, 1.0, 0.96]</td>\n",
              "      <td>[0.98, 0.99, 0.97, 1.0, 0.95]</td>\n",
              "    </tr>\n",
              "    <tr>\n",
              "      <th>4</th>\n",
              "      <td>Support Vector Classifer</td>\n",
              "      <td>95.97</td>\n",
              "      <td>[0.99, 0.97, 0.96, 0.97, 0.89]</td>\n",
              "      <td>[0.96, 0.96, 0.91, 0.99, 0.97]</td>\n",
              "      <td>[0.98, 0.97, 0.93, 0.98, 0.93]</td>\n",
              "    </tr>\n",
              "    <tr>\n",
              "      <th>5</th>\n",
              "      <td>Decision Tree Classifier</td>\n",
              "      <td>80.09</td>\n",
              "      <td>[0.94, 0.95, 0.83, 0.93, 0.53]</td>\n",
              "      <td>[0.63, 0.71, 0.83, 0.94, 0.93]</td>\n",
              "      <td>[0.76, 0.81, 0.83, 0.94, 0.68]</td>\n",
              "    </tr>\n",
              "    <tr>\n",
              "      <th>6</th>\n",
              "      <td>K Nearest Neighbour</td>\n",
              "      <td>70.02</td>\n",
              "      <td>[0.78, 0.84, 0.82, 0.53, 0.95]</td>\n",
              "      <td>[0.65, 0.66, 0.63, 1.0, 0.49]</td>\n",
              "      <td>[0.71, 0.74, 0.71, 0.69, 0.65]</td>\n",
              "    </tr>\n",
              "    <tr>\n",
              "      <th>7</th>\n",
              "      <td>Gaussian Naive Bayes</td>\n",
              "      <td>77.18</td>\n",
              "      <td>[0.95, 0.96, 1.0, 1.0, 0.43]</td>\n",
              "      <td>[0.66, 0.58, 0.7, 0.96, 0.97]</td>\n",
              "      <td>[0.78, 0.72, 0.82, 0.98, 0.59]</td>\n",
              "    </tr>\n",
              "  </tbody>\n",
              "</table>\n",
              "</div>\n",
              "      <button class=\"colab-df-convert\" onclick=\"convertToInteractive('df-7dfd8281-e758-4d91-8273-4c2dc8a77b3c')\"\n",
              "              title=\"Convert this dataframe to an interactive table.\"\n",
              "              style=\"display:none;\">\n",
              "        \n",
              "  <svg xmlns=\"http://www.w3.org/2000/svg\" height=\"24px\"viewBox=\"0 0 24 24\"\n",
              "       width=\"24px\">\n",
              "    <path d=\"M0 0h24v24H0V0z\" fill=\"none\"/>\n",
              "    <path d=\"M18.56 5.44l.94 2.06.94-2.06 2.06-.94-2.06-.94-.94-2.06-.94 2.06-2.06.94zm-11 1L8.5 8.5l.94-2.06 2.06-.94-2.06-.94L8.5 2.5l-.94 2.06-2.06.94zm10 10l.94 2.06.94-2.06 2.06-.94-2.06-.94-.94-2.06-.94 2.06-2.06.94z\"/><path d=\"M17.41 7.96l-1.37-1.37c-.4-.4-.92-.59-1.43-.59-.52 0-1.04.2-1.43.59L10.3 9.45l-7.72 7.72c-.78.78-.78 2.05 0 2.83L4 21.41c.39.39.9.59 1.41.59.51 0 1.02-.2 1.41-.59l7.78-7.78 2.81-2.81c.8-.78.8-2.07 0-2.86zM5.41 20L4 18.59l7.72-7.72 1.47 1.35L5.41 20z\"/>\n",
              "  </svg>\n",
              "      </button>\n",
              "      \n",
              "  <style>\n",
              "    .colab-df-container {\n",
              "      display:flex;\n",
              "      flex-wrap:wrap;\n",
              "      gap: 12px;\n",
              "    }\n",
              "\n",
              "    .colab-df-convert {\n",
              "      background-color: #E8F0FE;\n",
              "      border: none;\n",
              "      border-radius: 50%;\n",
              "      cursor: pointer;\n",
              "      display: none;\n",
              "      fill: #1967D2;\n",
              "      height: 32px;\n",
              "      padding: 0 0 0 0;\n",
              "      width: 32px;\n",
              "    }\n",
              "\n",
              "    .colab-df-convert:hover {\n",
              "      background-color: #E2EBFA;\n",
              "      box-shadow: 0px 1px 2px rgba(60, 64, 67, 0.3), 0px 1px 3px 1px rgba(60, 64, 67, 0.15);\n",
              "      fill: #174EA6;\n",
              "    }\n",
              "\n",
              "    [theme=dark] .colab-df-convert {\n",
              "      background-color: #3B4455;\n",
              "      fill: #D2E3FC;\n",
              "    }\n",
              "\n",
              "    [theme=dark] .colab-df-convert:hover {\n",
              "      background-color: #434B5C;\n",
              "      box-shadow: 0px 1px 3px 1px rgba(0, 0, 0, 0.15);\n",
              "      filter: drop-shadow(0px 1px 2px rgba(0, 0, 0, 0.3));\n",
              "      fill: #FFFFFF;\n",
              "    }\n",
              "  </style>\n",
              "\n",
              "      <script>\n",
              "        const buttonEl =\n",
              "          document.querySelector('#df-7dfd8281-e758-4d91-8273-4c2dc8a77b3c button.colab-df-convert');\n",
              "        buttonEl.style.display =\n",
              "          google.colab.kernel.accessAllowed ? 'block' : 'none';\n",
              "\n",
              "        async function convertToInteractive(key) {\n",
              "          const element = document.querySelector('#df-7dfd8281-e758-4d91-8273-4c2dc8a77b3c');\n",
              "          const dataTable =\n",
              "            await google.colab.kernel.invokeFunction('convertToInteractive',\n",
              "                                                     [key], {});\n",
              "          if (!dataTable) return;\n",
              "\n",
              "          const docLinkHtml = 'Like what you see? Visit the ' +\n",
              "            '<a target=\"_blank\" href=https://colab.research.google.com/notebooks/data_table.ipynb>data table notebook</a>'\n",
              "            + ' to learn more about interactive tables.';\n",
              "          element.innerHTML = '';\n",
              "          dataTable['output_type'] = 'display_data';\n",
              "          await google.colab.output.renderOutput(dataTable, element);\n",
              "          const docLink = document.createElement('div');\n",
              "          docLink.innerHTML = docLinkHtml;\n",
              "          element.appendChild(docLink);\n",
              "        }\n",
              "      </script>\n",
              "    </div>\n",
              "  </div>\n",
              "  "
            ],
            "text/plain": [
              "                      Model  Test Accuracy                       Precision  \\\n",
              "0       Logistic Regression          96.64  [0.97, 0.96, 0.96, 0.95, 0.99]   \n",
              "1       Logistic Regression          96.64  [0.97, 0.96, 0.96, 0.95, 0.99]   \n",
              "2   Multinomial Naive Bayes          97.99   [0.99, 1.0, 0.95, 0.99, 0.96]   \n",
              "3             Random Forest          97.99   [0.98, 0.99, 0.98, 1.0, 0.95]   \n",
              "4  Support Vector Classifer          95.97  [0.99, 0.97, 0.96, 0.97, 0.89]   \n",
              "5  Decision Tree Classifier          80.09  [0.94, 0.95, 0.83, 0.93, 0.53]   \n",
              "6       K Nearest Neighbour          70.02  [0.78, 0.84, 0.82, 0.53, 0.95]   \n",
              "7      Gaussian Naive Bayes          77.18    [0.95, 0.96, 1.0, 1.0, 0.43]   \n",
              "\n",
              "                           Recall                              F1  \n",
              "0   [0.97, 0.99, 0.93, 1.0, 0.93]  [0.97, 0.98, 0.95, 0.98, 0.96]  \n",
              "1   [0.97, 0.99, 0.93, 1.0, 0.93]  [0.97, 0.98, 0.95, 0.98, 0.96]  \n",
              "2   [0.95, 0.99, 0.98, 1.0, 0.99]   [0.97, 0.99, 0.97, 1.0, 0.97]  \n",
              "3    [0.97, 1.0, 0.97, 1.0, 0.96]   [0.98, 0.99, 0.97, 1.0, 0.95]  \n",
              "4  [0.96, 0.96, 0.91, 0.99, 0.97]  [0.98, 0.97, 0.93, 0.98, 0.93]  \n",
              "5  [0.63, 0.71, 0.83, 0.94, 0.93]  [0.76, 0.81, 0.83, 0.94, 0.68]  \n",
              "6   [0.65, 0.66, 0.63, 1.0, 0.49]  [0.71, 0.74, 0.71, 0.69, 0.65]  \n",
              "7   [0.66, 0.58, 0.7, 0.96, 0.97]  [0.78, 0.72, 0.82, 0.98, 0.59]  "
            ]
          },
          "execution_count": 203,
          "metadata": {},
          "output_type": "execute_result"
        }
      ],
      "source": [
        "model_performance = pd.DataFrame(data=perform_list)\n",
        "model_performance = model_performance[['Model', 'Test Accuracy', 'Precision', 'Recall', 'F1']]\n",
        "model_performance"
      ]
    },
    {
      "cell_type": "code",
      "execution_count": null,
      "metadata": {
        "colab": {
          "base_uri": "https://localhost:8080/"
        },
        "id": "F1D-TT5gEj8p",
        "outputId": "3245e442-53ca-4758-e117-7f804f869111"
      },
      "outputs": [
        {
          "name": "stdout",
          "output_type": "stream",
          "text": [
            "The best accuracy of model is 97.99 from Random\n"
          ]
        }
      ],
      "source": [
        "# Determining best model based on accuracy\n",
        "model = model_performance[\"Model\"]\n",
        "max_value = model_performance[\"Test Accuracy\"].max()\n",
        "print(\"The best accuracy of model is\", max_value,\"from Random\")"
      ]
    },
    {
      "cell_type": "code",
      "execution_count": null,
      "metadata": {
        "id": "_gqVP1_SEybK"
      },
      "outputs": [],
      "source": [
        "classifier = RandomForestClassifier(n_estimators=100 ,criterion='entropy' , random_state=0).fit(x_train, y_train)\n",
        "classifier\n",
        "y_pred = classifier.predict(x_test)"
      ]
    }
  ],
  "metadata": {
    "colab": {
      "provenance": [],
      "authorship_tag": "ABX9TyNtPvVpt7V62FU6Wky+rg1a",
      "include_colab_link": true
    },
    "kernelspec": {
      "display_name": "Python 3",
      "name": "python3"
    },
    "language_info": {
      "name": "python"
    }
  },
  "nbformat": 4,
  "nbformat_minor": 0
}